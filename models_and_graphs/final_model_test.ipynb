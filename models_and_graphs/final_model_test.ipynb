{
 "cells": [
  {
   "cell_type": "code",
   "execution_count": 82,
   "metadata": {},
   "outputs": [],
   "source": [
    "import time\n",
    "import pandas as pd \n",
    "import numpy as np\n",
    "import pingouin as pg \n",
    "import lightgbm as lgb \n",
    "from sklearn.model_selection import train_test_split\n",
    "from sklearn.model_selection import train_test_split, cross_val_score, cross_validate\n",
    "from sklearn.metrics import accuracy_score, classification_report, confusion_matrix, roc_auc_score, precision_recall_curve\n",
    "from sklearn.model_selection import GridSearchCV\n",
    "from sklearn.ensemble import RandomForestClassifier\n",
    "from sklearn.linear_model import LogisticRegression\n",
    "from sklearn.preprocessing import StandardScaler\n",
    "from sklearn.model_selection import StratifiedKFold\n",
    "from sklearn.utils.multiclass import unique_labels\n",
    "from sklearn.cluster import KMeans\n",
    "import matplotlib.pyplot as plt \n",
    "import seaborn as sns"
   ]
  },
  {
   "cell_type": "code",
   "execution_count": 73,
   "metadata": {},
   "outputs": [],
   "source": [
    "df = pd.read_csv('fixed_projects.csv')"
   ]
  },
  {
   "cell_type": "code",
   "execution_count": 74,
   "metadata": {},
   "outputs": [],
   "source": [
    "replace_values = {'Illicit':1, 'likely-reputable':0}\n",
    "# replace_values = {1:'Illicit', 0:'likely-reputable'}\n",
    "df['FLAG'] = df['FLAG'].replace(replace_values)"
   ]
  },
  {
   "cell_type": "code",
   "execution_count": 75,
   "metadata": {},
   "outputs": [],
   "source": [
    "X = df.drop(columns = ['Address', 'FLAG'], axis=1)\n",
    "y = df['FLAG']"
   ]
  },
  {
   "attachments": {},
   "cell_type": "markdown",
   "metadata": {},
   "source": [
    "### Inferential Statistics"
   ]
  },
  {
   "cell_type": "code",
   "execution_count": 76,
   "metadata": {},
   "outputs": [
    {
     "name": "stderr",
     "output_type": "stream",
     "text": [
      "/tmp/ipykernel_4131/4228884520.py:4: DeprecationWarning: `np.bool` is a deprecated alias for the builtin `bool`. To silence this warning, use `bool` by itself. Doing this will not modify any behavior and is safe. If you specifically wanted the numpy scalar type, use `np.bool_` here.\n",
      "Deprecated in NumPy 1.20; for more details and guidance: https://numpy.org/devdocs/release/1.20.0-notes.html#deprecations\n",
      "  upper = corr_matrix.where(np.triu(np.ones(corr_matrix.shape), k=1).astype(np.bool))\n"
     ]
    }
   ],
   "source": [
    "# Correlation between inputs \n",
    "corr_matrix = X.corr().abs()\n",
    "\n",
    "upper = corr_matrix.where(np.triu(np.ones(corr_matrix.shape), k=1).astype(np.bool))\n",
    "to_drop = [column for column in upper.columns if any(upper[column] > 0.95)]\n",
    "\n",
    "X.drop(columns=to_drop, axis=1, inplace=True)"
   ]
  },
  {
   "attachments": {},
   "cell_type": "markdown",
   "metadata": {},
   "source": [
    "### Model Training"
   ]
  },
  {
   "cell_type": "code",
   "execution_count": 77,
   "metadata": {},
   "outputs": [],
   "source": [
    "X_train, X_test, y_train, y_test = train_test_split(X, y, test_size = 0.3, shuffle=True)"
   ]
  },
  {
   "cell_type": "code",
   "execution_count": 78,
   "metadata": {},
   "outputs": [],
   "source": [
    "def stratified_k_fold_LGBM(X, Y, n_folds):\n",
    "    # import matplotlib\n",
    "    # matplotlib.use('Agg')\n",
    "    print(\"Starting stratified Cross-validation using LGBM\")\n",
    "    #model1 = xgb.XGBClassifier(learning_rate=0.1, n_estimators=1000, max_depth=5, min_child_weight=1, gamma=0,\n",
    "    #                           subsample=0.8, colsample_bytree=0.8, objective='binary:logistic',\n",
    "    #                           scale_pos_weight=1, seed=27)\n",
    "    clf = lgb.LGBMClassifier(learning_rate=0.2)\n",
    "    max_depth = [2, 3, 4, 5, 6, 7, 8]\n",
    "    n_estimators = [100, 150, 200, 250, 300]\n",
    "    param_grid = dict(max_depth=max_depth, n_estimators=n_estimators)\n",
    "\n",
    "    kfold = StratifiedKFold(n_splits=n_folds, shuffle=True, random_state=7)\n",
    "    score = {'f1', 'roc_auc', 'accuracy'}\n",
    "    current = time.time()\n",
    "    #results = cross_validate(model1, X, Y, cv=kfold, scoring=scoring, return_train_score=True, n_jobs=-1)\n",
    "    results = GridSearchCV(clf,param_grid, cv=kfold, scoring='roc_auc', n_jobs=6)\n",
    "    grid_result = results.fit(X, Y)\n",
    "\n",
    "    # summarize results\n",
    "    print(\"Best: %f using %s\" % (grid_result.best_score_, grid_result.best_params_))\n",
    "    means = grid_result.cv_results_['mean_test_score']\n",
    "    stds = grid_result.cv_results_['std_test_score']\n",
    "    params = grid_result.cv_results_['params']\n",
    "\n",
    "    for mean, stdev, param in zip(means, stds, params):\n",
    "        print(\"%f (%f) with: %r\" % (mean, stdev, param))\n",
    "    print(\"Execution time: \", time.time() - current)\n",
    "\n",
    "    # plot results\n",
    "    scores = np.array(means).reshape(len(max_depth), len(n_estimators))\n",
    "    for i, value in enumerate(max_depth):\n",
    "        plt.plot(n_estimators, scores[i], label='depth: ' + str(value))\n",
    "    plt.legend()\n",
    "    plt.xlabel('n_estimators')\n",
    "    plt.ylabel('AUC')\n",
    "    plt.show()"
   ]
  },
  {
   "cell_type": "code",
   "execution_count": 79,
   "metadata": {},
   "outputs": [
    {
     "name": "stdout",
     "output_type": "stream",
     "text": [
      "Starting stratified Cross-validation using LGBM\n",
      "Best: 0.999999 using {'max_depth': 2, 'n_estimators': 100}\n",
      "0.999999 (0.000003) with: {'max_depth': 2, 'n_estimators': 100}\n",
      "0.999999 (0.000003) with: {'max_depth': 2, 'n_estimators': 150}\n",
      "0.999998 (0.000007) with: {'max_depth': 2, 'n_estimators': 200}\n",
      "0.999998 (0.000007) with: {'max_depth': 2, 'n_estimators': 250}\n",
      "0.999998 (0.000007) with: {'max_depth': 2, 'n_estimators': 300}\n",
      "0.999995 (0.000014) with: {'max_depth': 3, 'n_estimators': 100}\n",
      "0.999995 (0.000014) with: {'max_depth': 3, 'n_estimators': 150}\n",
      "0.999997 (0.000010) with: {'max_depth': 3, 'n_estimators': 200}\n",
      "0.999997 (0.000010) with: {'max_depth': 3, 'n_estimators': 250}\n",
      "0.999997 (0.000010) with: {'max_depth': 3, 'n_estimators': 300}\n",
      "0.999997 (0.000010) with: {'max_depth': 4, 'n_estimators': 100}\n",
      "0.999997 (0.000010) with: {'max_depth': 4, 'n_estimators': 150}\n",
      "0.999995 (0.000014) with: {'max_depth': 4, 'n_estimators': 200}\n",
      "0.999997 (0.000010) with: {'max_depth': 4, 'n_estimators': 250}\n",
      "0.999998 (0.000007) with: {'max_depth': 4, 'n_estimators': 300}\n",
      "0.999997 (0.000005) with: {'max_depth': 5, 'n_estimators': 100}\n",
      "0.999998 (0.000005) with: {'max_depth': 5, 'n_estimators': 150}\n",
      "0.999999 (0.000003) with: {'max_depth': 5, 'n_estimators': 200}\n",
      "0.999999 (0.000003) with: {'max_depth': 5, 'n_estimators': 250}\n",
      "0.999999 (0.000003) with: {'max_depth': 5, 'n_estimators': 300}\n",
      "0.999995 (0.000008) with: {'max_depth': 6, 'n_estimators': 100}\n",
      "0.999995 (0.000008) with: {'max_depth': 6, 'n_estimators': 150}\n",
      "0.999995 (0.000008) with: {'max_depth': 6, 'n_estimators': 200}\n",
      "0.999995 (0.000008) with: {'max_depth': 6, 'n_estimators': 250}\n",
      "0.999995 (0.000008) with: {'max_depth': 6, 'n_estimators': 300}\n",
      "0.999994 (0.000011) with: {'max_depth': 7, 'n_estimators': 100}\n",
      "0.999997 (0.000007) with: {'max_depth': 7, 'n_estimators': 150}\n",
      "0.999997 (0.000007) with: {'max_depth': 7, 'n_estimators': 200}\n",
      "0.999997 (0.000007) with: {'max_depth': 7, 'n_estimators': 250}\n",
      "0.999997 (0.000007) with: {'max_depth': 7, 'n_estimators': 300}\n",
      "0.999993 (0.000011) with: {'max_depth': 8, 'n_estimators': 100}\n",
      "0.999991 (0.000017) with: {'max_depth': 8, 'n_estimators': 150}\n",
      "0.999990 (0.000020) with: {'max_depth': 8, 'n_estimators': 200}\n",
      "0.999990 (0.000020) with: {'max_depth': 8, 'n_estimators': 250}\n",
      "0.999990 (0.000020) with: {'max_depth': 8, 'n_estimators': 300}\n",
      "Execution time:  27.810149908065796\n"
     ]
    },
    {
     "data": {
      "image/png": "[encoded data removed]",
      "text/plain": [
       "<Figure size 432x288 with 1 Axes>"
      ]
     },
     "metadata": {
      "needs_background": "light"
     },
     "output_type": "display_data"
    }
   ],
   "source": [
    "stratified_k_fold_LGBM(X, y, 10)"
   ]
  },
  {
   "cell_type": "code",
   "execution_count": 80,
   "metadata": {},
   "outputs": [
    {
     "name": "stderr",
     "output_type": "stream",
     "text": [
      "/home/malik_cyrus/anaconda3/lib/python3.9/site-packages/lightgbm/sklearn.py:726: UserWarning: 'early_stopping_rounds' argument is deprecated and will be removed in a future release of LightGBM. Pass 'early_stopping()' callback via 'callbacks' argument instead.\n",
      "  _log_warning(\"'early_stopping_rounds' argument is deprecated and will be removed in a future release of LightGBM. \"\n",
      "/home/malik_cyrus/anaconda3/lib/python3.9/site-packages/lightgbm/sklearn.py:736: UserWarning: 'verbose' argument is deprecated and will be removed in a future release of LightGBM. Pass 'log_evaluation()' callback via 'callbacks' argument instead.\n",
      "  _log_warning(\"'verbose' argument is deprecated and will be removed in a future release of LightGBM. \"\n"
     ]
    },
    {
     "name": "stdout",
     "output_type": "stream",
     "text": [
      "[1]\ttraining's binary_error: 0.348109\ttraining's binary_logloss: 0.562378\tvalid_1's binary_error: 0.367623\tvalid_1's binary_logloss: 0.572668\n",
      "[2]\ttraining's binary_error: 0.348109\ttraining's binary_logloss: 0.494629\tvalid_1's binary_error: 0.367623\tvalid_1's binary_logloss: 0.503891\n",
      "[3]\ttraining's binary_error: 0.0264563\ttraining's binary_logloss: 0.438315\tvalid_1's binary_error: 0.0303194\tvalid_1's binary_logloss: 0.446426\n",
      "[4]\ttraining's binary_error: 0.0106753\ttraining's binary_logloss: 0.389938\tvalid_1's binary_error: 0.0140769\tvalid_1's binary_logloss: 0.396988\n",
      "[5]\ttraining's binary_error: 0.00719424\ttraining's binary_logloss: 0.348691\tvalid_1's binary_error: 0.00920411\tvalid_1's binary_logloss: 0.354863\n",
      "[6]\ttraining's binary_error: 0.00232072\ttraining's binary_logloss: 0.312704\tvalid_1's binary_error: 0.00433135\tvalid_1's binary_logloss: 0.318355\n",
      "[7]\ttraining's binary_error: 0.00232072\ttraining's binary_logloss: 0.281456\tvalid_1's binary_error: 0.00433135\tvalid_1's binary_logloss: 0.286556\n",
      "[8]\ttraining's binary_error: 0.00232072\ttraining's binary_logloss: 0.253696\tvalid_1's binary_error: 0.00378993\tvalid_1's binary_logloss: 0.258312\n",
      "[9]\ttraining's binary_error: 0.00232072\ttraining's binary_logloss: 0.229491\tvalid_1's binary_error: 0.00378993\tvalid_1's binary_logloss: 0.233716\n",
      "[10]\ttraining's binary_error: 0.00232072\ttraining's binary_logloss: 0.207713\tvalid_1's binary_error: 0.00433135\tvalid_1's binary_logloss: 0.21165\n",
      "[11]\ttraining's binary_error: 0.00232072\ttraining's binary_logloss: 0.188565\tvalid_1's binary_error: 0.00433135\tvalid_1's binary_logloss: 0.192267\n",
      "[12]\ttraining's binary_error: 0.00232072\ttraining's binary_logloss: 0.171233\tvalid_1's binary_error: 0.00433135\tvalid_1's binary_logloss: 0.174924\n",
      "[13]\ttraining's binary_error: 0.0025528\ttraining's binary_logloss: 0.155725\tvalid_1's binary_error: 0.00433135\tvalid_1's binary_logloss: 0.159262\n",
      "[14]\ttraining's binary_error: 0.00208865\ttraining's binary_logloss: 0.141621\tvalid_1's binary_error: 0.00378993\tvalid_1's binary_logloss: 0.145363\n",
      "[15]\ttraining's binary_error: 0.00232072\ttraining's binary_logloss: 0.129115\tvalid_1's binary_error: 0.00433135\tvalid_1's binary_logloss: 0.132856\n",
      "[16]\ttraining's binary_error: 0.00208865\ttraining's binary_logloss: 0.117664\tvalid_1's binary_error: 0.00378993\tvalid_1's binary_logloss: 0.12143\n",
      "[17]\ttraining's binary_error: 0.00208865\ttraining's binary_logloss: 0.107345\tvalid_1's binary_error: 0.00378993\tvalid_1's binary_logloss: 0.11115\n",
      "[18]\ttraining's binary_error: 0.00208865\ttraining's binary_logloss: 0.0980287\tvalid_1's binary_error: 0.00378993\tvalid_1's binary_logloss: 0.101978\n",
      "[19]\ttraining's binary_error: 0.00208865\ttraining's binary_logloss: 0.0895985\tvalid_1's binary_error: 0.00378993\tvalid_1's binary_logloss: 0.0936847\n",
      "[20]\ttraining's binary_error: 0.00208865\ttraining's binary_logloss: 0.0819453\tvalid_1's binary_error: 0.00378993\tvalid_1's binary_logloss: 0.086222\n",
      "[21]\ttraining's binary_error: 0.00208865\ttraining's binary_logloss: 0.0749955\tvalid_1's binary_error: 0.00433135\tvalid_1's binary_logloss: 0.0794494\n",
      "[22]\ttraining's binary_error: 0.00208865\ttraining's binary_logloss: 0.0686619\tvalid_1's binary_error: 0.00433135\tvalid_1's binary_logloss: 0.0732716\n",
      "[23]\ttraining's binary_error: 0.00185658\ttraining's binary_logloss: 0.0629166\tvalid_1's binary_error: 0.00378993\tvalid_1's binary_logloss: 0.0676054\n",
      "[24]\ttraining's binary_error: 0.00185658\ttraining's binary_logloss: 0.0575462\tvalid_1's binary_error: 0.00378993\tvalid_1's binary_logloss: 0.0622239\n",
      "[25]\ttraining's binary_error: 0.00185658\ttraining's binary_logloss: 0.0528019\tvalid_1's binary_error: 0.00378993\tvalid_1's binary_logloss: 0.0576014\n",
      "[26]\ttraining's binary_error: 0.00116036\ttraining's binary_logloss: 0.0483636\tvalid_1's binary_error: 0.00378993\tvalid_1's binary_logloss: 0.053154\n",
      "[27]\ttraining's binary_error: 0.00116036\ttraining's binary_logloss: 0.0444047\tvalid_1's binary_error: 0.00324851\tvalid_1's binary_logloss: 0.0493449\n",
      "[28]\ttraining's binary_error: 0.00116036\ttraining's binary_logloss: 0.0407056\tvalid_1's binary_error: 0.00324851\tvalid_1's binary_logloss: 0.0456616\n",
      "[29]\ttraining's binary_error: 0.00116036\ttraining's binary_logloss: 0.0373698\tvalid_1's binary_error: 0.00324851\tvalid_1's binary_logloss: 0.0424598\n",
      "[30]\ttraining's binary_error: 0.00116036\ttraining's binary_logloss: 0.0343424\tvalid_1's binary_error: 0.00324851\tvalid_1's binary_logloss: 0.0394035\n",
      "[31]\ttraining's binary_error: 0.00116036\ttraining's binary_logloss: 0.0315698\tvalid_1's binary_error: 0.00324851\tvalid_1's binary_logloss: 0.036704\n",
      "[32]\ttraining's binary_error: 0.00116036\ttraining's binary_logloss: 0.0290673\tvalid_1's binary_error: 0.00324851\tvalid_1's binary_logloss: 0.0341706\n",
      "[33]\ttraining's binary_error: 0.00116036\ttraining's binary_logloss: 0.0267541\tvalid_1's binary_error: 0.00324851\tvalid_1's binary_logloss: 0.032009\n",
      "[34]\ttraining's binary_error: 0.00116036\ttraining's binary_logloss: 0.0246484\tvalid_1's binary_error: 0.00324851\tvalid_1's binary_logloss: 0.0300145\n",
      "[35]\ttraining's binary_error: 0.00116036\ttraining's binary_logloss: 0.0227341\tvalid_1's binary_error: 0.00324851\tvalid_1's binary_logloss: 0.0282459\n",
      "[36]\ttraining's binary_error: 0.00116036\ttraining's binary_logloss: 0.0208204\tvalid_1's binary_error: 0.00324851\tvalid_1's binary_logloss: 0.0261049\n",
      "[37]\ttraining's binary_error: 0.00116036\ttraining's binary_logloss: 0.0190848\tvalid_1's binary_error: 0.00324851\tvalid_1's binary_logloss: 0.0241455\n",
      "[38]\ttraining's binary_error: 0.00092829\ttraining's binary_logloss: 0.0175684\tvalid_1's binary_error: 0.00324851\tvalid_1's binary_logloss: 0.0225892\n",
      "[39]\ttraining's binary_error: 0.000696217\ttraining's binary_logloss: 0.016079\tvalid_1's binary_error: 0.00324851\tvalid_1's binary_logloss: 0.0209879\n",
      "[40]\ttraining's binary_error: 0.000464145\ttraining's binary_logloss: 0.0147998\tvalid_1's binary_error: 0.00324851\tvalid_1's binary_logloss: 0.0194909\n",
      "[41]\ttraining's binary_error: 0.000464145\ttraining's binary_logloss: 0.0135872\tvalid_1's binary_error: 0.00324851\tvalid_1's binary_logloss: 0.0182214\n",
      "[42]\ttraining's binary_error: 0.000464145\ttraining's binary_logloss: 0.0124488\tvalid_1's binary_error: 0.00324851\tvalid_1's binary_logloss: 0.016974\n",
      "[43]\ttraining's binary_error: 0.000464145\ttraining's binary_logloss: 0.0114434\tvalid_1's binary_error: 0.00324851\tvalid_1's binary_logloss: 0.0159576\n",
      "[44]\ttraining's binary_error: 0.000464145\ttraining's binary_logloss: 0.0104997\tvalid_1's binary_error: 0.00324851\tvalid_1's binary_logloss: 0.0149534\n",
      "[45]\ttraining's binary_error: 0.000464145\ttraining's binary_logloss: 0.00962746\tvalid_1's binary_error: 0.00324851\tvalid_1's binary_logloss: 0.0140013\n",
      "[46]\ttraining's binary_error: 0.000464145\ttraining's binary_logloss: 0.00886556\tvalid_1's binary_error: 0.00270709\tvalid_1's binary_logloss: 0.0132387\n",
      "[47]\ttraining's binary_error: 0.000232072\ttraining's binary_logloss: 0.00813608\tvalid_1's binary_error: 0.00270709\tvalid_1's binary_logloss: 0.0124022\n",
      "[48]\ttraining's binary_error: 0.000232072\ttraining's binary_logloss: 0.00745892\tvalid_1's binary_error: 0.00270709\tvalid_1's binary_logloss: 0.0115905\n",
      "[49]\ttraining's binary_error: 0.000232072\ttraining's binary_logloss: 0.00684431\tvalid_1's binary_error: 0.00270709\tvalid_1's binary_logloss: 0.0108485\n",
      "[50]\ttraining's binary_error: 0\ttraining's binary_logloss: 0.00626036\tvalid_1's binary_error: 0.00270709\tvalid_1's binary_logloss: 0.0101384\n",
      "[51]\ttraining's binary_error: 0\ttraining's binary_logloss: 0.00575233\tvalid_1's binary_error: 0.00270709\tvalid_1's binary_logloss: 0.0095316\n",
      "[52]\ttraining's binary_error: 0\ttraining's binary_logloss: 0.00526771\tvalid_1's binary_error: 0.00270709\tvalid_1's binary_logloss: 0.00893667\n",
      "[53]\ttraining's binary_error: 0\ttraining's binary_logloss: 0.00485328\tvalid_1's binary_error: 0.00270709\tvalid_1's binary_logloss: 0.0085268\n",
      "[54]\ttraining's binary_error: 0\ttraining's binary_logloss: 0.0044577\tvalid_1's binary_error: 0.00216567\tvalid_1's binary_logloss: 0.00813095\n",
      "[55]\ttraining's binary_error: 0\ttraining's binary_logloss: 0.00408449\tvalid_1's binary_error: 0.00216567\tvalid_1's binary_logloss: 0.00764313\n",
      "[56]\ttraining's binary_error: 0\ttraining's binary_logloss: 0.00376412\tvalid_1's binary_error: 0.00216567\tvalid_1's binary_logloss: 0.00735975\n",
      "[57]\ttraining's binary_error: 0\ttraining's binary_logloss: 0.00347155\tvalid_1's binary_error: 0.00216567\tvalid_1's binary_logloss: 0.00710767\n",
      "[58]\ttraining's binary_error: 0\ttraining's binary_logloss: 0.00318265\tvalid_1's binary_error: 0.00216567\tvalid_1's binary_logloss: 0.0067087\n",
      "[59]\ttraining's binary_error: 0\ttraining's binary_logloss: 0.00291971\tvalid_1's binary_error: 0.00216567\tvalid_1's binary_logloss: 0.00634284\n",
      "[60]\ttraining's binary_error: 0\ttraining's binary_logloss: 0.00268666\tvalid_1's binary_error: 0.00216567\tvalid_1's binary_logloss: 0.0061325\n",
      "[61]\ttraining's binary_error: 0\ttraining's binary_logloss: 0.00246358\tvalid_1's binary_error: 0.00216567\tvalid_1's binary_logloss: 0.00588209\n",
      "[62]\ttraining's binary_error: 0\ttraining's binary_logloss: 0.00227493\tvalid_1's binary_error: 0.00216567\tvalid_1's binary_logloss: 0.00573741\n",
      "[63]\ttraining's binary_error: 0\ttraining's binary_logloss: 0.00208131\tvalid_1's binary_error: 0.00216567\tvalid_1's binary_logloss: 0.00555157\n",
      "[64]\ttraining's binary_error: 0\ttraining's binary_logloss: 0.00190803\tvalid_1's binary_error: 0.00216567\tvalid_1's binary_logloss: 0.00542961\n",
      "[65]\ttraining's binary_error: 0\ttraining's binary_logloss: 0.00174735\tvalid_1's binary_error: 0.00216567\tvalid_1's binary_logloss: 0.00528754\n",
      "[66]\ttraining's binary_error: 0\ttraining's binary_logloss: 0.00160067\tvalid_1's binary_error: 0.00216567\tvalid_1's binary_logloss: 0.00516004\n",
      "[67]\ttraining's binary_error: 0\ttraining's binary_logloss: 0.00146672\tvalid_1's binary_error: 0.00216567\tvalid_1's binary_logloss: 0.00505039\n",
      "[68]\ttraining's binary_error: 0\ttraining's binary_logloss: 0.00135473\tvalid_1's binary_error: 0.00216567\tvalid_1's binary_logloss: 0.00503315\n",
      "[69]\ttraining's binary_error: 0\ttraining's binary_logloss: 0.00124276\tvalid_1's binary_error: 0.00216567\tvalid_1's binary_logloss: 0.00495401\n",
      "[70]\ttraining's binary_error: 0\ttraining's binary_logloss: 0.00114047\tvalid_1's binary_error: 0.00216567\tvalid_1's binary_logloss: 0.00488866\n",
      "[71]\ttraining's binary_error: 0\ttraining's binary_logloss: 0.00105038\tvalid_1's binary_error: 0.00216567\tvalid_1's binary_logloss: 0.00478595\n",
      "[72]\ttraining's binary_error: 0\ttraining's binary_logloss: 0.000971332\tvalid_1's binary_error: 0.00216567\tvalid_1's binary_logloss: 0.00479963\n",
      "[73]\ttraining's binary_error: 0\ttraining's binary_logloss: 0.000891349\tvalid_1's binary_error: 0.00216567\tvalid_1's binary_logloss: 0.00470068\n",
      "[74]\ttraining's binary_error: 0\ttraining's binary_logloss: 0.000818491\tvalid_1's binary_error: 0.00216567\tvalid_1's binary_logloss: 0.0046679\n",
      "[75]\ttraining's binary_error: 0\ttraining's binary_logloss: 0.000751839\tvalid_1's binary_error: 0.00216567\tvalid_1's binary_logloss: 0.00458994\n",
      "[76]\ttraining's binary_error: 0\ttraining's binary_logloss: 0.000690445\tvalid_1's binary_error: 0.00216567\tvalid_1's binary_logloss: 0.00445225\n",
      "[77]\ttraining's binary_error: 0\ttraining's binary_logloss: 0.000637716\tvalid_1's binary_error: 0.00216567\tvalid_1's binary_logloss: 0.0043757\n",
      "[78]\ttraining's binary_error: 0\ttraining's binary_logloss: 0.000591041\tvalid_1's binary_error: 0.00216567\tvalid_1's binary_logloss: 0.00441917\n",
      "[79]\ttraining's binary_error: 0\ttraining's binary_logloss: 0.000545553\tvalid_1's binary_error: 0.00216567\tvalid_1's binary_logloss: 0.0043724\n",
      "[80]\ttraining's binary_error: 0\ttraining's binary_logloss: 0.000505545\tvalid_1's binary_error: 0.00216567\tvalid_1's binary_logloss: 0.00443011\n",
      "[81]\ttraining's binary_error: 0\ttraining's binary_logloss: 0.000464257\tvalid_1's binary_error: 0.00216567\tvalid_1's binary_logloss: 0.00444613\n",
      "[82]\ttraining's binary_error: 0\ttraining's binary_logloss: 0.00043119\tvalid_1's binary_error: 0.00216567\tvalid_1's binary_logloss: 0.00449886\n",
      "[83]\ttraining's binary_error: 0\ttraining's binary_logloss: 0.00039657\tvalid_1's binary_error: 0.00216567\tvalid_1's binary_logloss: 0.00450563\n",
      "[84]\ttraining's binary_error: 0\ttraining's binary_logloss: 0.000364474\tvalid_1's binary_error: 0.00216567\tvalid_1's binary_logloss: 0.004534\n",
      "[85]\ttraining's binary_error: 0\ttraining's binary_logloss: 0.000336406\tvalid_1's binary_error: 0.00216567\tvalid_1's binary_logloss: 0.00446093\n",
      "[86]\ttraining's binary_error: 0\ttraining's binary_logloss: 0.000312172\tvalid_1's binary_error: 0.00162426\tvalid_1's binary_logloss: 0.00437267\n",
      "[87]\ttraining's binary_error: 0\ttraining's binary_logloss: 0.000287699\tvalid_1's binary_error: 0.00162426\tvalid_1's binary_logloss: 0.00435159\n",
      "[88]\ttraining's binary_error: 0\ttraining's binary_logloss: 0.000265951\tvalid_1's binary_error: 0.00162426\tvalid_1's binary_logloss: 0.00426696\n",
      "[89]\ttraining's binary_error: 0\ttraining's binary_logloss: 0.000245306\tvalid_1's binary_error: 0.00162426\tvalid_1's binary_logloss: 0.0043103\n",
      "[90]\ttraining's binary_error: 0\ttraining's binary_logloss: 0.000226925\tvalid_1's binary_error: 0.00162426\tvalid_1's binary_logloss: 0.00423691\n",
      "[91]\ttraining's binary_error: 0\ttraining's binary_logloss: 0.000211127\tvalid_1's binary_error: 0.00162426\tvalid_1's binary_logloss: 0.00416769\n",
      "[92]\ttraining's binary_error: 0\ttraining's binary_logloss: 0.000195975\tvalid_1's binary_error: 0.00162426\tvalid_1's binary_logloss: 0.00412692\n",
      "[93]\ttraining's binary_error: 0\ttraining's binary_logloss: 0.000182088\tvalid_1's binary_error: 0.00162426\tvalid_1's binary_logloss: 0.00413464\n",
      "[94]\ttraining's binary_error: 0\ttraining's binary_logloss: 0.000168434\tvalid_1's binary_error: 0.00162426\tvalid_1's binary_logloss: 0.00403731\n",
      "[95]\ttraining's binary_error: 0\ttraining's binary_logloss: 0.000156624\tvalid_1's binary_error: 0.00162426\tvalid_1's binary_logloss: 0.00400063\n",
      "[96]\ttraining's binary_error: 0\ttraining's binary_logloss: 0.000145367\tvalid_1's binary_error: 0.00162426\tvalid_1's binary_logloss: 0.00395507\n",
      "[97]\ttraining's binary_error: 0\ttraining's binary_logloss: 0.000134111\tvalid_1's binary_error: 0.00162426\tvalid_1's binary_logloss: 0.00391336\n",
      "[98]\ttraining's binary_error: 0\ttraining's binary_logloss: 0.000123765\tvalid_1's binary_error: 0.00162426\tvalid_1's binary_logloss: 0.00387675\n",
      "[99]\ttraining's binary_error: 0\ttraining's binary_logloss: 0.000114624\tvalid_1's binary_error: 0.00162426\tvalid_1's binary_logloss: 0.00378739\n",
      "[100]\ttraining's binary_error: 0\ttraining's binary_logloss: 0.000106223\tvalid_1's binary_error: 0.00162426\tvalid_1's binary_logloss: 0.00370341\n",
      "Accuracy: 99.73%\n"
     ]
    },
    {
     "data": {
      "image/png": "[encoded data removed]",
      "text/plain": [
       "<Figure size 432x288 with 1 Axes>"
      ]
     },
     "metadata": {
      "needs_background": "light"
     },
     "output_type": "display_data"
    },
    {
     "data": {
      "image/png": "[encoded data removed]",
      "text/plain": [
       "<Figure size 432x288 with 1 Axes>"
      ]
     },
     "metadata": {
      "needs_background": "light"
     },
     "output_type": "display_data"
    }
   ],
   "source": [
    "clf = lgb.LGBMClassifier(learning_rate=0.09,\n",
    "                            max_depth=8,\n",
    "                            subsample=0.5, \n",
    "                            objective='binary',\n",
    "                            n_estimators=100)\n",
    "eval_set = [(X_train, y_train), (X_test, y_test)]\n",
    "# clf.fit(X_train, y_train, early_stopping_rounds=100, eval_metric=[\"error\", \"logloss\"],\n",
    "#           eval_set=eval_set, verbose=True)\n",
    "clf.fit(X_train, y_train, early_stopping_rounds=100, eval_metric=[\"error\", \"logloss\"],\n",
    "              eval_set=eval_set, verbose=True)\n",
    "\n",
    "# predict\n",
    "y_pred = clf.predict(X_test)\n",
    "predicted_values = [round(val) for val in y_pred]\n",
    "\n",
    "# evaluation \n",
    "accuracy = accuracy_score(y_test, predicted_values)\n",
    "print(\"Accuracy: %.2f%%\" % (accuracy * 100.0))\n",
    "\n",
    "# performance metrics \n",
    "results = clf.evals_result_\n",
    "epochs = len(results['training']['binary_error'])\n",
    "x_axis = range(0, epochs)\n",
    "plt.rcParams.update({'font.size': 13})\n",
    "\n",
    "# plotting log loss\n",
    "fig, ax = plt.subplots()\n",
    "ax.plot(x_axis, results['training']['binary_logloss'], label='Train')\n",
    "ax.plot(x_axis, results['valid_1']['binary_logloss'], label='Test')\n",
    "ax.legend()\n",
    "plt.ylabel('Log Loss')\n",
    "plt.xlabel('Number of iterations')\n",
    "plt.title('LightGBM Log Loss')\n",
    "plt.show()\n",
    "# plot classification error\n",
    "fig, ax = plt.subplots()\n",
    "ax.plot(x_axis, results['training']['binary_error'], label='Train')\n",
    "ax.plot(x_axis, results['valid_1']['binary_error'], label='Test')\n",
    "ax.legend()\n",
    "plt.ylabel('Classification Error')\n",
    "plt.xlabel('Number of iterations')\n",
    "plt.title('LightGBM Classification Error')\n",
    "plt.show()"
   ]
  },
  {
   "attachments": {},
   "cell_type": "markdown",
   "metadata": {},
   "source": [
    "### Confusion Matrix"
   ]
  },
  {
   "cell_type": "code",
   "execution_count": 83,
   "metadata": {},
   "outputs": [
    {
     "data": {
      "image/png": "[encoded data removed]",
      "text/plain": [
       "<Figure size 576x432 with 2 Axes>"
      ]
     },
     "metadata": {
      "needs_background": "light"
     },
     "output_type": "display_data"
    }
   ],
   "source": [
    "# confusion matrix\n",
    "cm = confusion_matrix(y_test, y_pred)\n",
    "cm_df = pd.DataFrame(cm,\n",
    "                     index = ['Illicit', 'likely-reputable'], \n",
    "                     columns = ['Illicit', 'likely-reputable'])\n",
    "\n",
    "plt.figure(figsize=(8,6))\n",
    "sns.heatmap(cm_df, annot=True, fmt='d', cmap='GnBu')\n",
    "plt.title('Confusion Matrix')\n",
    "plt.ylabel('Actal Values')\n",
    "plt.xlabel('Predicted Values')\n",
    "plt.show()"
   ]
  },
  {
   "attachments": {},
   "cell_type": "markdown",
   "metadata": {},
   "source": [
    "### Random Forest Classifier"
   ]
  },
  {
   "cell_type": "code",
   "execution_count": 84,
   "metadata": {},
   "outputs": [
    {
     "name": "stdout",
     "output_type": "stream",
     "text": [
      "Accuracy for Random Forest Model: 99.84\n",
      "              precision    recall  f1-score   support\n",
      "\n",
      "           0     0.9991    0.9983    0.9987      1168\n",
      "           1     0.9971    0.9985    0.9978       679\n",
      "\n",
      "    accuracy                         0.9984      1847\n",
      "   macro avg     0.9981    0.9984    0.9983      1847\n",
      "weighted avg     0.9984    0.9984    0.9984      1847\n",
      "\n",
      "ROC: 0.9999974781608731\n"
     ]
    }
   ],
   "source": [
    "\n",
    "rfc = RandomForestClassifier()\n",
    "rfc_model = rfc.fit(X_train, y_train)\n",
    "pred8 = rfc_model.predict(X_test)\n",
    "print(\"Accuracy for Random Forest Model: %.2f\" % (accuracy_score(y_test, pred8) * 100))\n",
    "print(classification_report(y_test, pred8, digits=4))\n",
    "roc = roc_auc_score(y_test, rfc_model.predict_proba(X_test)[:, 1])\n",
    "print(\"ROC:\" , roc)"
   ]
  },
  {
   "attachments": {},
   "cell_type": "markdown",
   "metadata": {},
   "source": [
    "### Logistic Regression for Classification"
   ]
  },
  {
   "cell_type": "code",
   "execution_count": 67,
   "metadata": {},
   "outputs": [],
   "source": [
    "#  normalizing data set \n",
    "X_train_reg = StandardScaler().fit_transform(X_train)\n",
    "X_test_reg = StandardScaler().fit_transform(X_test)\n"
   ]
  },
  {
   "cell_type": "code",
   "execution_count": 69,
   "metadata": {},
   "outputs": [
    {
     "name": "stdout",
     "output_type": "stream",
     "text": [
      "Accuracy of logistic regression classifier on test set: 0.98\n"
     ]
    }
   ],
   "source": [
    "lgr = LogisticRegression(max_iter=100000)\n",
    "lgr.fit(X_train, y_train)\n",
    "\n",
    "y_pred = lgr.predict(X_test)\n",
    "print(\"Accuracy of logistic regression classifier on test set: {:.2f}\".format(accuracy_score(y_test, y_pred)))"
   ]
  },
  {
   "cell_type": "code",
   "execution_count": 70,
   "metadata": {},
   "outputs": [
    {
     "name": "stdout",
     "output_type": "stream",
     "text": [
      "[[1165   26]\n",
      " [   3  653]]\n"
     ]
    }
   ],
   "source": [
    "cfm = confusion_matrix(y_test, y_pred)\n",
    "print(cfm)"
   ]
  },
  {
   "cell_type": "code",
   "execution_count": 71,
   "metadata": {},
   "outputs": [
    {
     "name": "stdout",
     "output_type": "stream",
     "text": [
      "              precision    recall  f1-score   support\n",
      "\n",
      "           0     0.9974    0.9782    0.9877      1191\n",
      "           1     0.9617    0.9954    0.9783       656\n",
      "\n",
      "    accuracy                         0.9843      1847\n",
      "   macro avg     0.9796    0.9868    0.9830      1847\n",
      "weighted avg     0.9847    0.9843    0.9844      1847\n",
      "\n"
     ]
    }
   ],
   "source": [
    "print(classification_report(y_test, y_pred, digits=4))"
   ]
  },
  {
   "attachments": {},
   "cell_type": "markdown",
   "metadata": {},
   "source": [
    "### Predict Probability using LGBM"
   ]
  },
  {
   "cell_type": "markdown",
   "metadata": {},
   "source": []
  }
 ],
 "metadata": {
  "kernelspec": {
   "display_name": "base",
   "language": "python",
   "name": "python3"
  },
  "language_info": {
   "codemirror_mode": {
    "name": "ipython",
    "version": 3
   },
   "file_extension": ".py",
   "mimetype": "text/x-python",
   "name": "python",
   "nbconvert_exporter": "python",
   "pygments_lexer": "ipython3",
   "version": "3.9.12"
  },
  "orig_nbformat": 4,
  "vscode": {
   "interpreter": {
    "hash": "d01d3e927f2d10c917122a4d7c308c03189da167853c27df2d9c3623e11eb447"
   }
  }
 },
 "nbformat": 4,
 "nbformat_minor": 2
}
